{
 "cells": [
  {
   "cell_type": "markdown",
   "metadata": {},
   "source": [
    "# Harmonization Parameters Finder"
   ]
  },
  {
   "cell_type": "code",
   "execution_count": 8,
   "metadata": {},
   "outputs": [],
   "source": [
    "import pandas as pd\n",
    "import numpy as np\n",
    "import matplotlib.pyplot as plt\n",
    "import os"
   ]
  },
  {
   "cell_type": "markdown",
   "metadata": {},
   "source": [
    "## Read Data"
   ]
  },
  {
   "cell_type": "code",
   "execution_count": 9,
   "metadata": {},
   "outputs": [],
   "source": [
    "def read_sensor_data(file_prefix, num_sensors=15,api=False):\n",
    "    \n",
    "    if api:\n",
    "        # file_prefix = 'tsi_v3_api/telemetry_outputs/Raw_Edited.csv'\n",
    "        df = pd.read_csv(file_prefix)\n",
    "        # Group by 'model' and create a dictionary of DataFrames\n",
    "        model_dfs = {}\n",
    "        sensor_dataframes = []\n",
    "        for model, group in df.groupby('friendly_name'):\n",
    "            model_dfs[model] = group\n",
    "\n",
    "        rename_dict = {\n",
    "                'PM1.0 (ug/m3)': 'PM 1.0',\n",
    "                'PM2.5 (ug/m3)': 'PM 2.5',\n",
    "                'PM4.0 (ug/m3)': 'PM 4.0',\n",
    "                'PM10 (ug/m3)': 'PM 10',\n",
    "                'PM0.5 NC (#/cm3)': 'NC 0.5',\n",
    "                'PM1.0 NC (#/cm3)': 'NC 1.0',\n",
    "                'PM2.5 NC (#/cm3)': 'NC 2.5',\n",
    "                'PM4.0 NC (#/cm3)': 'NC 4.0',\n",
    "                'PM10 NC (#/cm3)': 'NC 10',\n",
    "                'Typical Particle Size (um)': 'Typical Particle Size',\n",
    "                'Temperature (Celsius)': 'Temperature',\n",
    "                'Relative Humidity (%)': 'Relative Humidity',\n",
    "                'timestamp' : 'Timestamp'\n",
    "        }\n",
    "        # Access individual DataFrames\n",
    "        for keys in model_dfs.keys():\n",
    "            # print(f\"DataFrame for Model {model}:\")\n",
    "            # print(model_df)\n",
    "                \n",
    "            model_dfs[keys] = model_dfs[keys].rename(columns=rename_dict)\n",
    "            # print(\"\\n\")\n",
    "            sensor_dataframes.append(model_dfs[keys])\n",
    "        return sensor_dataframes\n",
    "        \n",
    "    else:\n",
    "        sensor_dataframes = []\n",
    "        for i in range(1, num_sensors + 1):\n",
    "            filename = f'{file_prefix}{i:02d}.csv'\n",
    "            sensor_df = pd.read_csv(filename)\n",
    "            sensor_dataframes.append(sensor_df)\n",
    "        return sensor_dataframes\n",
    "\n",
    "sensor_dataframes = read_sensor_data('data/Indoor')"
   ]
  },
  {
   "cell_type": "markdown",
   "metadata": {},
   "source": [
    "# Getting Data from Darrens Code"
   ]
  },
  {
   "cell_type": "code",
   "execution_count": 10,
   "metadata": {},
   "outputs": [],
   "source": [
    "# https://stackoverflow.com/questions/75048986/way-to-temporarily-change-the-directory-in-python-to-execute-code-without-affect\n",
    "\n",
    "import contextlib\n",
    "\n",
    "\n",
    "@contextlib.contextmanager\n",
    "def new_cd(x):\n",
    "    d = os.getcwd()\n",
    "\n",
    "    # This could raise an exception, but it's probably\n",
    "    # best to let it propagate and let the caller\n",
    "    # deal with it, since they requested x\n",
    "    os.chdir(x)\n",
    "\n",
    "    try:\n",
    "        yield\n",
    "\n",
    "    finally:\n",
    "        # This could also raise an exception, but you *really*\n",
    "        # aren't equipped to figure out what went wrong if the\n",
    "        # old working directory can't be restored.\n",
    "        os.chdir(d)"
   ]
  },
  {
   "cell_type": "code",
   "execution_count": 11,
   "metadata": {},
   "outputs": [
    {
     "name": "stdout",
     "output_type": "stream",
     "text": [
      "Token for nn12@duke.edu is ready\n",
      "1   nn12@duke.edu   81432150005   Kenya 3 (N)\n",
      "2   nn12@duke.edu   81442326006   Indoor 01\n",
      "3   nn12@duke.edu   81442326017   Indoor 03\n",
      "4   nn12@duke.edu   81442326015   Indoor 04\n",
      "5   nn12@duke.edu   81442326013   Indoor 05\n",
      "6   nn12@duke.edu   81442326005   Indoor 06\n",
      "7   nn12@duke.edu   81442326003   Indoor 02\n",
      "8   nn12@duke.edu   81442326001   Indoor 07\n",
      "9   nn12@duke.edu   81442326008   Indoor 08\n",
      "10   nn12@duke.edu   81442326014   Indoor 09\n",
      "11   nn12@duke.edu   81442326007   Indoor 10\n",
      "12   nn12@duke.edu   81442325013   Indoor 11\n",
      "13   nn12@duke.edu   81442326016   Indoor 12\n",
      "14   nn12@duke.edu   81442326009   Indoor 13\n",
      "15   nn12@duke.edu   81442326018   Indoor 14\n",
      "16   nn12@duke.edu   81442326002   Indoor 15\n",
      "17   nn12@duke.edu   81432151042   Kenya 2\n",
      "18   nn12@duke.edu   81432151052   Kenya 1\n",
      "Device list is successfully updated.\n",
      "Merged raw csv successfully compiled.\n",
      "Level 0 QA completed\n"
     ]
    },
    {
     "name": "stderr",
     "output_type": "stream",
     "text": [
      "/Users/rishabhshah/Desktop/Final_Bergin/Kenya-Indoor-Sensors/tsi_v3_api/get_all_raw_data.py:501: FutureWarning: Series.fillna with 'method' is deprecated and will raise in a future version. Use obj.ffill() or obj.bfill() instead.\n",
      "  raw_df['time_delta'] = raw_df.sort_values('timestamp').groupby('serial')['timestamp'].diff().fillna(method='bfill')\n",
      "/Users/rishabhshah/Desktop/Final_Bergin/Kenya-Indoor-Sensors/tsi_v3_api/get_all_raw_data.py:501: FutureWarning: Series.fillna with 'method' is deprecated and will raise in a future version. Use obj.ffill() or obj.bfill() instead.\n",
      "  raw_df['time_delta'] = raw_df.sort_values('timestamp').groupby('serial')['timestamp'].diff().fillna(method='bfill')\n"
     ]
    },
    {
     "name": "stdout",
     "output_type": "stream",
     "text": [
      "Level 1 QA completed\n",
      "Data processing and quality assurance completed.\n"
     ]
    }
   ],
   "source": [
    "from tsi_v3_api.get_all_raw_data import device_list, client_token, main, get_and_flatten_telemetry\n",
    "\n",
    "work_dir = r'tsi_v3_api/'\n",
    "\n",
    "# with os.chdir(work_dir):\n",
    "with new_cd(work_dir):\n",
    "\n",
    "    from tsi_v3_api.get_all_raw_data import device_list, client_token, main, get_and_flatten_telemetry\n",
    "    secrets_PATH = r'account_auth_info/secrets.csv'\n",
    "    main(secrets_PATH, days_duration=2)"
   ]
  },
  {
   "cell_type": "code",
   "execution_count": 12,
   "metadata": {},
   "outputs": [],
   "source": [
    "# # Add relavant details to secrets\n",
    "\n",
    "# work_dir = r'tsi_v3_api/'\n",
    "# os.chdir(work_dir)\n",
    "# secrets_PATH = r'account_auth_info/secrets.csv'\n",
    "# main(secrets_PATH,True)"
   ]
  },
  {
   "cell_type": "code",
   "execution_count": 13,
   "metadata": {},
   "outputs": [],
   "source": [
    "file_prefix = 'tsi_v3_api/telemetry_outputs/Raw_Edited.csv'\n",
    "sensor_dataframes = read_sensor_data(file_prefix,api=True)"
   ]
  },
  {
   "cell_type": "code",
   "execution_count": 19,
   "metadata": {},
   "outputs": [],
   "source": [
    "sensor_dataframes[0].to_csv('tsi_v3_api/telemetry_outputs/test.csv')"
   ]
  },
  {
   "cell_type": "markdown",
   "metadata": {},
   "source": [
    "## Clean Data"
   ]
  },
  {
   "cell_type": "code",
   "execution_count": null,
   "metadata": {},
   "outputs": [],
   "source": [
    "# def create_units_dict(df):\n",
    "#     units_dict = {}\n",
    "#     for column in df.columns:\n",
    "#         units_dict[column] = df.loc[0, column]\n",
    "#     return units_dict\n",
    "\n",
    "# units_dict = create_units_dict(sensor_dataframes[0])\n",
    "\n",
    "units_dict = {'Timestamp': 'UTC',\n",
    " 'Timestamp (Local)': 'UTC-05:00',\n",
    " 'PM 1.0': 'ug/m3',\n",
    " 'PM 2.5': 'ug/m3',\n",
    " 'Applied PM 2.5 Custom Calibration Setting - Multiplication Factor': None,\n",
    " 'Applied PM 2.5 Custom Calibration Setting - Offset': None,\n",
    " 'PM 4.0': 'ug/m3',\n",
    " 'PM 10': 'ug/m3',\n",
    " 'Applied PM 10 Custom Calibration Setting - Multiplication Factor': None,\n",
    " 'Applied PM 10 Custom Calibration Setting - Offset': None,\n",
    " 'NC 0.5': '#/cm3',\n",
    " 'NC 1.0': '#/cm3',\n",
    " 'NC 2.5': '#/cm3',\n",
    " 'NC 4.0': '#/cm3',\n",
    " 'NC 10': '#/cm3',\n",
    " 'PM Sensor Error Status': None,\n",
    " 'CO2': 'ppm',\n",
    " 'Applied CO2 Custom Calibration Setting - Multiplication Factor': None,\n",
    " 'Applied CO2 Custom Calibration Setting - Offset': None,\n",
    " 'CO2 Sensor Error Status': None,\n",
    " 'CH2O': 'ppb',\n",
    " 'Applied CH2O Custom Calibration Setting - Multiplication Factor': None,\n",
    " 'Applied CH2O Custom Calibration Setting - Offset': None,\n",
    " 'CH2O Sensor Error Status': None,\n",
    " 'Barometric Pressure': 'inHg',\n",
    " 'Applied Barometric Pressure Custom Calibration Setting - Offset': None,\n",
    " 'Barometric Sensor Error Status': None,\n",
    " 'CO': 'ppm',\n",
    " 'Applied CO Custom Calibration Setting - Multiplication Factor': None,\n",
    " 'Applied CO Custom Calibration Setting - Offset': None,\n",
    " 'CO Sensor Error Status': None,\n",
    " 'SO2': 'ppb',\n",
    " 'Applied SO2 Custom Calibration Setting - Multiplication Factor': None,\n",
    " 'Applied SO2 Custom Calibration Setting - Offset': None,\n",
    " 'SO2 Sensor Error Status': None,\n",
    " 'O3': 'ppb',\n",
    " 'Applied O3 Custom Calibration Setting - Multiplication Factor': None,\n",
    " 'Applied O3 Custom Calibration Setting - Offset': None,\n",
    " 'O3 Sensor Error Status': None,\n",
    " 'NO2': 'ppb',\n",
    " 'Applied NO2 Custom Calibration Setting - Multiplication Factor': None,\n",
    " 'Applied NO2 Custom Calibration Setting - Offset': None,\n",
    " 'NO2 Sensor Error Status': None,\n",
    " 'VOC tVOC measurement': 'mg/m3',\n",
    " 'Applied TVOC Custom Calibration Setting - Multiplication Factor': None,\n",
    " 'Applied TVOC Custom Calibration Setting - Offset': None,\n",
    " 'VOC Ethanol': 'ppb',\n",
    " 'VOC Sensor Error Status': None,\n",
    " 'Temperature': 'Fahrenheit',\n",
    " 'Applied Temperature Custom Calibration Setting - Offset': 'Celsius',\n",
    " 'Relative Humidity': '%',\n",
    " 'Applied Relative Humidity Custom Calibration Setting - Offset': None,\n",
    " 'Temperature/Humidity Sensor Error Status': None,\n",
    " 'Device Status': None}"
   ]
  },
  {
   "cell_type": "code",
   "execution_count": null,
   "metadata": {},
   "outputs": [],
   "source": [
    "def clean_sensor_dataframes(sensor_dataframes):\n",
    "    numeric_columns = ['PM 1.0', 'PM 2.5', 'PM 4.0', 'PM 10',\n",
    "                       'NC 0.5', 'NC 1.0', 'NC 2.5', 'NC 10',\n",
    "                       'CO2', 'Barometric Pressure', 'VOC tVOC measurement',\n",
    "                       'VOC Ethanol', 'Temperature', 'Relative Humidity']\n",
    "    cleaned_dataframes = []\n",
    "    \n",
    "    columns_not_present = list(set(numeric_columns) - set(sensor_dataframes[0].columns.to_list()))\n",
    "    columns_present = [x for x in numeric_columns if x not in columns_not_present]\n",
    "\n",
    "    print(f'Columns not present in the Dataframe: {columns_not_present}')\n",
    "\n",
    "    for sensor_df in sensor_dataframes:\n",
    "        # remove header\n",
    "        sensor_df = sensor_df.iloc[1:]\n",
    "        # Sort by 'Timestamp'\n",
    "        sensor_df = sensor_df.sort_values(by=['Timestamp']).reset_index()\n",
    "        # Change 'Timestamp' to date format\n",
    "        sensor_df['Timestamp'] = pd.to_datetime(sensor_df['Timestamp'])\n",
    "        # Convert specified columns to numeric\n",
    "        set(columns_present) - set(sensor_dataframes[0].columns.to_list())\n",
    "        \n",
    "        sensor_df[columns_present] = sensor_df[columns_present].apply(pd.to_numeric, errors='coerce')\n",
    "        # Append the cleaned DataFrame to the list\n",
    "        cleaned_dataframes.append(sensor_df)\n",
    "    return cleaned_dataframes\n",
    "cleaned_sensor_dataframes = clean_sensor_dataframes(sensor_dataframes)"
   ]
  },
  {
   "cell_type": "code",
   "execution_count": null,
   "metadata": {},
   "outputs": [],
   "source": [
    "sensor_names = ['sensor01', 'sensor02', 'sensor03', 'sensor04', 'sensor05', \n",
    "                'sensor06','sensor07', 'sensor08', 'sensor09', 'sensor10', 'sensor11', \n",
    "                'sensor12','sensor13', 'sensor14', 'sensor15']"
   ]
  },
  {
   "cell_type": "code",
   "execution_count": null,
   "metadata": {},
   "outputs": [],
   "source": [
    "# Define columns to plot\n",
    "columns_to_plot = ['PM 2.5', 'CO2', 'Barometric Pressure', 'VOC tVOC measurement', 'Temperature', 'Relative Humidity']\n",
    "columns_not_present = list(set(columns_to_plot) - set(sensor_dataframes[0].columns.to_list()))\n",
    "working_columns = [x for x in columns_to_plot if x not in columns_not_present]\n",
    "\n",
    "num_plots_per_row = 2\n",
    "for sensor_num, df in enumerate(cleaned_sensor_dataframes[:1]):\n",
    "    num_columns = len(working_columns)\n",
    "    num_rows = (num_columns + num_plots_per_row - 1) // num_plots_per_row  # Ceiling division\n",
    "    fig, axs = plt.subplots(num_rows, num_plots_per_row, figsize=(15, 5*num_rows))\n",
    "    fig.suptitle(f\"Sensor {sensor_num + 1}\", fontsize=16)\n",
    "\n",
    "    for i, column in enumerate(working_columns):\n",
    "        row = i // num_plots_per_row\n",
    "        col = i % num_plots_per_row\n",
    "        axs[row, col].plot(df['Timestamp'], df[column])\n",
    "        axs[row, col].set_title(column)\n",
    "        axs[row, col].set_xlabel('Time')\n",
    "        axs[row, col].set_ylabel(f'{column} ({units_dict[column]})')\n",
    "        axs[row, col].grid(True)\n",
    "        axs[row, col].tick_params(axis='x', rotation=45)\n",
    "\n",
    "    plt.tight_layout()\n",
    "    plt.show()"
   ]
  },
  {
   "cell_type": "code",
   "execution_count": null,
   "metadata": {},
   "outputs": [],
   "source": [
    "# Define columns to plot\n",
    "columns_to_plot = ['PM 2.5', 'CO2', 'Barometric Pressure', 'VOC tVOC measurement', 'Temperature', 'Relative Humidity']\n",
    "columns_not_present = list(set(columns_to_plot) - set(sensor_dataframes[0].columns.to_list()))\n",
    "working_columns = [x for x in columns_to_plot if x not in columns_not_present]\n",
    "\n",
    "num_plots_per_row = 2\n",
    "for sensor_num, df in enumerate(cleaned_sensor_dataframes[:1]):\n",
    "    num_columns = len(working_columns)\n",
    "    num_rows = (num_columns + num_plots_per_row - 1) // num_plots_per_row  # Ceiling division\n",
    "    fig, axs = plt.subplots(num_rows, num_plots_per_row, figsize=(15, 5*num_rows))\n",
    "    fig.suptitle(f\"Sensor {sensor_num + 1}\", fontsize=16)\n",
    "\n",
    "    for i, column in enumerate(working_columns):\n",
    "        row = i // num_plots_per_row\n",
    "        col = i % num_plots_per_row\n",
    "        axs[row, col].plot(df['Timestamp'], df[column])\n",
    "        axs[row, col].set_title(column)\n",
    "        axs[row, col].set_xlabel('Time')\n",
    "        axs[row, col].set_ylabel(f'{column} ({units_dict[column]})')\n",
    "        axs[row, col].grid(True)\n",
    "        axs[row, col].tick_params(axis='x', rotation=45)\n",
    "\n",
    "    plt.tight_layout()\n",
    "    plt.show()"
   ]
  },
  {
   "cell_type": "markdown",
   "metadata": {},
   "source": [
    "### Apply Harmonization"
   ]
  },
  {
   "cell_type": "code",
   "execution_count": null,
   "metadata": {},
   "outputs": [],
   "source": [
    "import os\n",
    "\n",
    "parameters_dir = os.path.join(\"parameters\")\n",
    "\n",
    "# Apply parameters to each dataframe and each column\n",
    "for sensor_df in cleaned_sensor_dataframes:\n",
    "    for column_name in working_columns:\n",
    "        coefficients_file = os.path.join(parameters_dir, f\"{column_name.lower().replace(' ', '_')}_coefficients_df.csv\")\n",
    "        coefficients_df = pd.read_csv(coefficients_file)\n",
    "        for index, row in coefficients_df.iterrows():\n",
    "            sensor_df[column_name] = sensor_df[column_name] * row['Coefficient'] + row['Intercept']"
   ]
  },
  {
   "cell_type": "markdown",
   "metadata": {},
   "source": [
    "### Plot"
   ]
  },
  {
   "cell_type": "code",
   "execution_count": null,
   "metadata": {},
   "outputs": [],
   "source": [
    "# Define columns to plot\n",
    "# columns_to_plot = ['PM 2.5', 'CO2', 'Barometric Pressure', 'VOC tVOC measurement', 'Temperature', 'Relative Humidity']\n",
    "\n",
    "num_plots_per_row = 2\n",
    "for sensor_num, df in enumerate(cleaned_sensor_dataframes):\n",
    "    num_columns = len(working_columns)\n",
    "    num_rows = (num_columns + num_plots_per_row - 1) // num_plots_per_row  # Ceiling division\n",
    "    fig, axs = plt.subplots(num_rows, num_plots_per_row, figsize=(15, 5*num_rows))\n",
    "    fig.suptitle(f\"Sensor {sensor_num + 1}\", fontsize=16)\n",
    "\n",
    "    for i, column in enumerate(working_columns):\n",
    "        row = i // num_plots_per_row\n",
    "        col = i % num_plots_per_row\n",
    "        axs[row, col].plot(df['Timestamp'], df[column])\n",
    "        axs[row, col].set_title(column)\n",
    "        axs[row, col].set_xlabel('Time')\n",
    "        axs[row, col].set_ylabel(f'{column} ({units_dict[column]})')\n",
    "        axs[row, col].grid(True)\n",
    "        axs[row, col].tick_params(axis='x', rotation=45)\n",
    "\n",
    "    plt.tight_layout()\n",
    "    plt.show()"
   ]
  }
 ],
 "metadata": {
  "kernelspec": {
   "display_name": "Python 3",
   "language": "python",
   "name": "python3"
  },
  "language_info": {
   "codemirror_mode": {
    "name": "ipython",
    "version": 3
   },
   "file_extension": ".py",
   "mimetype": "text/x-python",
   "name": "python",
   "nbconvert_exporter": "python",
   "pygments_lexer": "ipython3",
   "version": "3.12.3"
  }
 },
 "nbformat": 4,
 "nbformat_minor": 2
}
